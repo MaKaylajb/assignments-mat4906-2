{
 "cells": [
  {
   "cell_type": "code",
   "execution_count": 71,
   "source": [
    "import numpy as np\n",
    "import matplotlib.pyplot as plt\n",
    "from sklearn import datasets, metrics\n",
    "from sklearn.model_selection import train_test_split\n",
    "from sklearn import preprocessing \n",
    "from sklearn.neural_network import MLPClassifier"
   ],
   "outputs": [],
   "metadata": {}
  },
  {
   "cell_type": "code",
   "execution_count": 72,
   "source": [
    "# the digits dataset of 8x8 pixel image of digits that consist in training and target datasets.\n",
    "digits = datasets.load_digits()\n",
    "n_samples = len(digits.images)\n",
    "dimention = digits.images[0].shape\n",
    "print(\"The number of samples in digit dataset is {0:d}, the dimention of each image is {1:d}x{1:d}\".format(n_samples,dimention[0]))"
   ],
   "outputs": [
    {
     "output_type": "stream",
     "name": "stdout",
     "text": [
      "The number of samples in digit dataset is 1797, the dimention of each image is 8x8\n"
     ]
    }
   ],
   "metadata": {}
  },
  {
   "cell_type": "code",
   "execution_count": 73,
   "source": [
    "# show the first 3 images\n",
    "_, fig = plt.subplots(nrows=1, ncols=3, figsize=(10,10))\n",
    "for ax, image, label in zip(fig, digits.images, digits.target):\n",
    "    ax.set_axis_off()\n",
    "    ax.imshow(image, cmap=plt.cm.gray_r)\n",
    "    ax.set_title(\"Training: %i\" % label)"
   ],
   "outputs": [
    {
     "output_type": "display_data",
     "data": {
      "image/png": "[encoded data removed]",
      "text/plain": [
       "<Figure size 720x720 with 3 Axes>"
      ]
     },
     "metadata": {
      "needs_background": "light"
     }
    }
   ],
   "metadata": {}
  },
  {
   "cell_type": "code",
   "execution_count": 74,
   "source": [
    "# reshapeing the images into a vector\n",
    "data = digits.images.reshape((n_samples,-1))\n",
    "\n",
    "x_train, x_test, y_train, y_test = train_test_split(data, digits.target, test_size = 0.4, shuffle=False)"
   ],
   "outputs": [],
   "metadata": {}
  },
  {
   "cell_type": "code",
   "execution_count": 75,
   "source": [
    "#Train the model MLPC using the training subset\n",
    "model = MLPClassifier(solver='lbfgs', alpha=1e-5, hidden_layer_sizes=(10,12), random_state=1, max_iter=600)\n",
    "\n",
    "model.fit(x_train,y_train)\n",
    "\n",
    "prediction = model.predict(x_test)"
   ],
   "outputs": [],
   "metadata": {}
  },
  {
   "cell_type": "code",
   "execution_count": 76,
   "source": [
    "_, fig = plt.subplots(nrows=1, ncols=3, figsize=(10,10))\n",
    "for ax, image, predicted in zip(fig, x_test, prediction):\n",
    "    ax.set_axis_off()\n",
    "    image = image.reshape(8,8)\n",
    "    ax.imshow(image, cmap=plt.cm.gray_r)\n",
    "    ax.set_title(f\"Prediction:{predicted}\")"
   ],
   "outputs": [
    {
     "output_type": "display_data",
     "data": {
      "image/png": "[encoded data removed]",
      "text/plain": [
       "<Figure size 720x720 with 3 Axes>"
      ]
     },
     "metadata": {
      "needs_background": "light"
     }
    }
   ],
   "metadata": {}
  },
  {
   "cell_type": "code",
   "execution_count": 77,
   "source": [
    "# Study the performance of the model\n",
    "print(metrics.classification_report(y_test, prediction))"
   ],
   "outputs": [
    {
     "output_type": "stream",
     "name": "stdout",
     "text": [
      "              precision    recall  f1-score   support\n",
      "\n",
      "           0       0.47      0.87      0.61        71\n",
      "           1       0.66      0.78      0.71        73\n",
      "           2       0.93      1.00      0.97        71\n",
      "           3       0.83      0.84      0.83        74\n",
      "           4       0.92      0.92      0.92        74\n",
      "           5       0.88      0.92      0.90        71\n",
      "           6       0.00      0.00      0.00        74\n",
      "           7       0.83      0.76      0.80        72\n",
      "           8       0.85      0.78      0.82        68\n",
      "           9       0.79      0.77      0.78        71\n",
      "\n",
      "    accuracy                           0.76       719\n",
      "   macro avg       0.72      0.76      0.73       719\n",
      "weighted avg       0.71      0.76      0.73       719\n",
      "\n"
     ]
    }
   ],
   "metadata": {}
  },
  {
   "cell_type": "code",
   "execution_count": 78,
   "source": [
    "# reshapeing the images into a vector\n",
    "data = digits.images.reshape((n_samples,-1))\n",
    "\n",
    "x_train, x_test, y_train, y_test = train_test_split(data, digits.target, test_size = 0.6, shuffle=False)"
   ],
   "outputs": [],
   "metadata": {}
  },
  {
   "cell_type": "code",
   "execution_count": 79,
   "source": [
    "#Train the model MLPC using the training subset\n",
    "model = MLPClassifier(solver='lbfgs', alpha=1e-5, hidden_layer_sizes=(10,6,3,8,5), random_state=1, max_iter=600)\n",
    "\n",
    "model.fit(x_train,y_train)\n",
    "\n",
    "prediction = model.predict(x_test)"
   ],
   "outputs": [],
   "metadata": {}
  },
  {
   "cell_type": "code",
   "execution_count": 80,
   "source": [
    "_, fig = plt.subplots(nrows=1, ncols=3, figsize=(10,10))\n",
    "for ax, image, predicted in zip(fig, x_test, prediction):\n",
    "    ax.set_axis_off()\n",
    "    image = image.reshape(8,8)\n",
    "    ax.imshow(image, cmap=plt.cm.gray_r)\n",
    "    ax.set_title(f\"Prediction:{predicted}\")"
   ],
   "outputs": [
    {
     "output_type": "display_data",
     "data": {
      "image/png": "[encoded data removed]",
      "text/plain": [
       "<Figure size 720x720 with 3 Axes>"
      ]
     },
     "metadata": {
      "needs_background": "light"
     }
    }
   ],
   "metadata": {}
  },
  {
   "cell_type": "code",
   "execution_count": 81,
   "source": [
    "# Study the performance of the model\n",
    "print(metrics.classification_report(y_test, prediction))"
   ],
   "outputs": [
    {
     "output_type": "stream",
     "name": "stdout",
     "text": [
      "              precision    recall  f1-score   support\n",
      "\n",
      "           0       0.98      0.92      0.95       105\n",
      "           1       0.17      0.98      0.28       110\n",
      "           2       0.00      0.00      0.00       105\n",
      "           3       0.00      0.00      0.00       109\n",
      "           4       0.91      0.87      0.89       111\n",
      "           5       0.00      0.00      0.00       109\n",
      "           6       0.87      0.95      0.91       109\n",
      "           7       0.92      0.90      0.91       108\n",
      "           8       0.00      0.00      0.00       104\n",
      "           9       0.00      0.00      0.00       109\n",
      "\n",
      "    accuracy                           0.47      1079\n",
      "   macro avg       0.38      0.46      0.39      1079\n",
      "weighted avg       0.39      0.47      0.40      1079\n",
      "\n"
     ]
    },
    {
     "output_type": "stream",
     "name": "stderr",
     "text": [
      "/Library/Frameworks/Python.framework/Versions/3.9/lib/python3.9/site-packages/sklearn/metrics/_classification.py:1308: UndefinedMetricWarning: Precision and F-score are ill-defined and being set to 0.0 in labels with no predicted samples. Use `zero_division` parameter to control this behavior.\n",
      "  _warn_prf(average, modifier, msg_start, len(result))\n",
      "/Library/Frameworks/Python.framework/Versions/3.9/lib/python3.9/site-packages/sklearn/metrics/_classification.py:1308: UndefinedMetricWarning: Precision and F-score are ill-defined and being set to 0.0 in labels with no predicted samples. Use `zero_division` parameter to control this behavior.\n",
      "  _warn_prf(average, modifier, msg_start, len(result))\n",
      "/Library/Frameworks/Python.framework/Versions/3.9/lib/python3.9/site-packages/sklearn/metrics/_classification.py:1308: UndefinedMetricWarning: Precision and F-score are ill-defined and being set to 0.0 in labels with no predicted samples. Use `zero_division` parameter to control this behavior.\n",
      "  _warn_prf(average, modifier, msg_start, len(result))\n"
     ]
    }
   ],
   "metadata": {}
  },
  {
   "cell_type": "code",
   "execution_count": 82,
   "source": [
    "# reshapeing the images into a vector\n",
    "data = digits.images.reshape((n_samples,-1))\n",
    "\n",
    "x_train, x_test, y_train, y_test = train_test_split(data, digits.target, test_size = 0.8, shuffle=False)"
   ],
   "outputs": [],
   "metadata": {}
  },
  {
   "cell_type": "code",
   "execution_count": 83,
   "source": [
    "#Train the model MLPC using the training subset\n",
    "model = MLPClassifier(solver='sgd', alpha=1e-5, hidden_layer_sizes=(10,6,3,8), random_state=1, max_iter=600)\n",
    "\n",
    "model.fit(x_train,y_train)\n",
    "\n",
    "prediction = model.predict(x_test)"
   ],
   "outputs": [
    {
     "output_type": "stream",
     "name": "stderr",
     "text": [
      "/Library/Frameworks/Python.framework/Versions/3.9/lib/python3.9/site-packages/sklearn/neural_network/_multilayer_perceptron.py:692: ConvergenceWarning: Stochastic Optimizer: Maximum iterations (600) reached and the optimization hasn't converged yet.\n",
      "  warnings.warn(\n"
     ]
    }
   ],
   "metadata": {}
  },
  {
   "cell_type": "code",
   "execution_count": 84,
   "source": [
    "_, fig = plt.subplots(nrows=1, ncols=3, figsize=(10,10))\n",
    "for ax, image, predicted in zip(fig, x_test, prediction):\n",
    "    ax.set_axis_off()\n",
    "    image = image.reshape(8,8)\n",
    "    ax.imshow(image, cmap=plt.cm.gray_r)\n",
    "    ax.set_title(f\"Prediction:{predicted}\")"
   ],
   "outputs": [
    {
     "output_type": "display_data",
     "data": {
      "image/png": "[encoded data removed]",
      "text/plain": [
       "<Figure size 720x720 with 3 Axes>"
      ]
     },
     "metadata": {
      "needs_background": "light"
     }
    }
   ],
   "metadata": {}
  },
  {
   "cell_type": "code",
   "execution_count": 85,
   "source": [
    "# Study the performance of the model\n",
    "print(metrics.classification_report(y_test, prediction))"
   ],
   "outputs": [
    {
     "output_type": "stream",
     "name": "stdout",
     "text": [
      "              precision    recall  f1-score   support\n",
      "\n",
      "           0       0.72      0.52      0.60       140\n",
      "           1       0.54      0.51      0.52       144\n",
      "           2       0.36      0.39      0.37       141\n",
      "           3       0.54      0.61      0.57       145\n",
      "           4       0.91      0.74      0.82       147\n",
      "           5       0.59      0.60      0.59       146\n",
      "           6       0.86      0.90      0.88       145\n",
      "           7       0.64      0.76      0.69       144\n",
      "           8       0.43      0.39      0.41       140\n",
      "           9       0.55      0.62      0.58       146\n",
      "\n",
      "    accuracy                           0.61      1438\n",
      "   macro avg       0.61      0.60      0.60      1438\n",
      "weighted avg       0.61      0.61      0.61      1438\n",
      "\n"
     ]
    }
   ],
   "metadata": {}
  },
  {
   "cell_type": "code",
   "execution_count": 86,
   "source": [
    "# reshapeing the images into a vector\n",
    "data = digits.images.reshape((n_samples,-1))\n",
    "\n",
    "x_train, x_test, y_train, y_test = train_test_split(data, digits.target, test_size = 0.4, shuffle=False)"
   ],
   "outputs": [],
   "metadata": {}
  },
  {
   "cell_type": "code",
   "execution_count": 87,
   "source": [
    "#Train the model MLPC using the training subset\n",
    "model = MLPClassifier(solver='sgd', alpha=1e-5, hidden_layer_sizes=(10,6,3), random_state=1, max_iter=600)\n",
    "\n",
    "model.fit(x_train,y_train)\n",
    "\n",
    "prediction = model.predict(x_test)"
   ],
   "outputs": [
    {
     "output_type": "stream",
     "name": "stderr",
     "text": [
      "/Library/Frameworks/Python.framework/Versions/3.9/lib/python3.9/site-packages/sklearn/neural_network/_multilayer_perceptron.py:692: ConvergenceWarning: Stochastic Optimizer: Maximum iterations (600) reached and the optimization hasn't converged yet.\n",
      "  warnings.warn(\n"
     ]
    }
   ],
   "metadata": {}
  },
  {
   "cell_type": "code",
   "execution_count": 88,
   "source": [
    "_, fig = plt.subplots(nrows=1, ncols=3, figsize=(10,10))\n",
    "for ax, image, predicted in zip(fig, x_test, prediction):\n",
    "    ax.set_axis_off()\n",
    "    image = image.reshape(8,8)\n",
    "    ax.imshow(image, cmap=plt.cm.gray_r)\n",
    "    ax.set_title(f\"Prediction:{predicted}\")"
   ],
   "outputs": [
    {
     "output_type": "display_data",
     "data": {
      "image/png": "[encoded data removed]",
      "text/plain": [
       "<Figure size 720x720 with 3 Axes>"
      ]
     },
     "metadata": {
      "needs_background": "light"
     }
    }
   ],
   "metadata": {}
  },
  {
   "cell_type": "code",
   "execution_count": 89,
   "source": [
    "# Study the performance of the model\n",
    "print(metrics.classification_report(y_test, prediction))"
   ],
   "outputs": [
    {
     "output_type": "stream",
     "name": "stdout",
     "text": [
      "              precision    recall  f1-score   support\n",
      "\n",
      "           0       0.93      0.92      0.92        71\n",
      "           1       0.28      0.10      0.14        73\n",
      "           2       0.89      0.77      0.83        71\n",
      "           3       0.74      0.76      0.75        74\n",
      "           4       0.97      0.91      0.94        74\n",
      "           5       0.71      0.31      0.43        71\n",
      "           6       0.90      0.93      0.91        74\n",
      "           7       0.38      0.99      0.54        72\n",
      "           8       0.49      0.31      0.38        68\n",
      "           9       0.70      0.76      0.73        71\n",
      "\n",
      "    accuracy                           0.68       719\n",
      "   macro avg       0.70      0.67      0.66       719\n",
      "weighted avg       0.70      0.68      0.66       719\n",
      "\n"
     ]
    }
   ],
   "metadata": {}
  },
  {
   "cell_type": "code",
   "execution_count": 90,
   "source": [
    "# reshapeing the images into a vector\n",
    "data = digits.images.reshape((n_samples,-1))\n",
    "\n",
    "x_train, x_test, y_train, y_test = train_test_split(data, digits.target, test_size = 0.6, shuffle=False)"
   ],
   "outputs": [],
   "metadata": {}
  },
  {
   "cell_type": "code",
   "execution_count": 91,
   "source": [
    "#Train the model MLPC using the training subset\n",
    "model = MLPClassifier(solver='sgd', alpha=1e-5, hidden_layer_sizes=(10), random_state=1, max_iter=600)\n",
    "\n",
    "model.fit(x_train,y_train)\n",
    "\n",
    "prediction = model.predict(x_test)"
   ],
   "outputs": [
    {
     "output_type": "stream",
     "name": "stderr",
     "text": [
      "/Library/Frameworks/Python.framework/Versions/3.9/lib/python3.9/site-packages/sklearn/neural_network/_multilayer_perceptron.py:692: ConvergenceWarning: Stochastic Optimizer: Maximum iterations (600) reached and the optimization hasn't converged yet.\n",
      "  warnings.warn(\n"
     ]
    }
   ],
   "metadata": {}
  },
  {
   "cell_type": "code",
   "execution_count": 92,
   "source": [
    "_, fig = plt.subplots(nrows=1, ncols=3, figsize=(10,10))\n",
    "for ax, image, predicted in zip(fig, x_test, prediction):\n",
    "    ax.set_axis_off()\n",
    "    image = image.reshape(8,8)\n",
    "    ax.imshow(image, cmap=plt.cm.gray_r)\n",
    "    ax.set_title(f\"Prediction:{predicted}\")"
   ],
   "outputs": [
    {
     "output_type": "display_data",
     "data": {
      "image/png": "[encoded data removed]",
      "text/plain": [
       "<Figure size 720x720 with 3 Axes>"
      ]
     },
     "metadata": {
      "needs_background": "light"
     }
    }
   ],
   "metadata": {}
  },
  {
   "cell_type": "code",
   "execution_count": 93,
   "source": [
    "# Study the performance of the model\n",
    "print(metrics.classification_report(y_test, prediction))"
   ],
   "outputs": [
    {
     "output_type": "stream",
     "name": "stdout",
     "text": [
      "              precision    recall  f1-score   support\n",
      "\n",
      "           0       0.87      0.98      0.92       105\n",
      "           1       0.78      0.72      0.75       110\n",
      "           2       0.94      0.87      0.90       105\n",
      "           3       0.63      0.75      0.69       109\n",
      "           4       1.00      0.78      0.88       111\n",
      "           5       0.95      0.94      0.95       109\n",
      "           6       0.87      0.89      0.88       109\n",
      "           7       0.93      0.85      0.89       108\n",
      "           8       0.74      0.64      0.69       104\n",
      "           9       0.76      0.95      0.85       109\n",
      "\n",
      "    accuracy                           0.84      1079\n",
      "   macro avg       0.85      0.84      0.84      1079\n",
      "weighted avg       0.85      0.84      0.84      1079\n",
      "\n"
     ]
    }
   ],
   "metadata": {}
  }
 ],
 "metadata": {
  "orig_nbformat": 4,
  "language_info": {
   "name": "python",
   "version": "3.9.5",
   "mimetype": "text/x-python",
   "codemirror_mode": {
    "name": "ipython",
    "version": 3
   },
   "pygments_lexer": "ipython3",
   "nbconvert_exporter": "python",
   "file_extension": ".py"
  },
  "kernelspec": {
   "name": "python3",
   "display_name": "Python 3.9.5 64-bit"
  },
  "interpreter": {
   "hash": "aee8b7b246df8f9039afb4144a1f6fd8d2ca17a180786b69acc140d282b71a49"
  }
 },
 "nbformat": 4,
 "nbformat_minor": 2
}